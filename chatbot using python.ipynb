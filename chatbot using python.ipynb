{
 "cells": [
  {
   "cell_type": "code",
   "execution_count": 1,
   "id": "90673c98",
   "metadata": {},
   "outputs": [],
   "source": [
    "import nltk\n",
    "import re\n",
    "import random\n",
    "import string\n"
   ]
  },
  {
   "cell_type": "code",
   "execution_count": 2,
   "id": "d01314c7",
   "metadata": {},
   "outputs": [
    {
     "name": "stderr",
     "output_type": "stream",
     "text": [
      "[nltk_data] Downloading package punkt to\n",
      "[nltk_data]     C:\\Users\\HP\\AppData\\Roaming\\nltk_data...\n",
      "[nltk_data]   Package punkt is already up-to-date!\n",
      "[nltk_data] Downloading package stopwords to\n",
      "[nltk_data]     C:\\Users\\HP\\AppData\\Roaming\\nltk_data...\n",
      "[nltk_data]   Package stopwords is already up-to-date!\n"
     ]
    }
   ],
   "source": [
    "from string import punctuation\n",
    "\n",
    "# Download stopwords from nltk\n",
    "nltk.download('punkt')\n",
    "nltk.download('stopwords')\n",
    "stop_words = set(nltk.corpus.stopwords.words('english'))"
   ]
  },
  {
   "cell_type": "code",
   "execution_count": 3,
   "id": "b9e50bd5",
   "metadata": {},
   "outputs": [],
   "source": [
    "def sentence_tokenizer(data):\n",
    "   # Function for Sentence Tokenization\n",
    "   return nltk.sent_tokenize(data.lower())"
   ]
  },
  {
   "cell_type": "code",
   "execution_count": 4,
   "id": "84903bd9",
   "metadata": {},
   "outputs": [],
   "source": [
    "def word_tokenizer(data):\n",
    "   # Function for Word Tokenization\n",
    "   return nltk.word_tokenize(data.lower())\n"
   ]
  },
  {
   "cell_type": "code",
   "execution_count": 5,
   "id": "700d282b",
   "metadata": {},
   "outputs": [],
   "source": [
    "def remove_noise(word_tokens):\n",
    "   # Function to remove stop words and punctuation\n",
    "   cleaned_tokens = []\n",
    "   for token in word_tokens:\n",
    "      if token not in stop_words and token not in punctuation:\n",
    "         cleaned_tokens.append(token)\n",
    "   return cleaned_tokens\n"
   ]
  },
  {
   "cell_type": "code",
   "execution_count": 6,
   "id": "9086c94d",
   "metadata": {},
   "outputs": [],
   "source": [
    "# Define the Patterns and Responses\n",
    "patterns = [\n",
    "   (r'hi|hello|hey', ['Hi there!', 'Hello!', 'Hey!']),\n",
    "   (r'bye|goodbye', ['Bye', 'Goodbye!']),\n",
    "   (r'(\\w+)', ['Yes, go on', 'Tell me more', 'I’m listening...']),\n",
    "   (r'(\\?)', ['I’m sorry, but I can’t answer that', 'Please ask me another question', 'I’m not sure what you mean.'])\n",
    "]\n"
   ]
  },
  {
   "cell_type": "code",
   "execution_count": 7,
   "id": "e6b7fcd9",
   "metadata": {},
   "outputs": [],
   "source": [
    "# Function to generate response for the user input\n",
    "def generate_response(user_input):\n",
    "   # Append User Input to chat history\n",
    "   conversation_history.append(user_input)\n",
    "   # Generate Random response\n",
    "   response = random.choice(responses)\n",
    "   return response"
   ]
  },
  {
   "cell_type": "code",
   "execution_count": null,
   "id": "93a1a521",
   "metadata": {},
   "outputs": [
    {
     "name": "stdout",
     "output_type": "stream",
     "text": [
      "You: Hello!\n",
      "Chatbot: ['Yes, go on', 'Tell me more', 'I’m listening...']\n",
      "You: Yes\n",
      "Chatbot: ['Bye', 'Goodbye!']\n",
      "You: How are you\n",
      "Chatbot: ['Hi there!', 'Hello!', 'Hey!']\n",
      "You: what is your name\n",
      "Chatbot: ['Hi there!', 'Hello!', 'Hey!']\n",
      "You: Data SCience\n",
      "Chatbot: ['Hi there!', 'Hello!', 'Hey!']\n"
     ]
    }
   ],
   "source": [
    "# Main loop of chatbot\n",
    "conversation_history = []\n",
    "responses = [response for pattern, response in patterns]\n",
    "while True:\n",
    "   # User Input\n",
    "   user_input = input(\"You: \")\n",
    "   # End the Loop if the User Says Bye or Goodbye\n",
    "   if user_input.lower() in ['bye', 'goodbye']:\n",
    "      print('Chatbot: Goodbye!')\n",
    "      break\n",
    "   # Tokenize the User Input\n",
    "   user_input_tokenized = word_tokenizer(user_input)\n",
    "   # Remove Stop Words\n",
    "   user_input_nostops = remove_noise(user_input_tokenized)\n",
    "   # Process Query and Generate Response\n",
    "   chatbot_response = generate_response(user_input_nostops)\n",
    "   # Print Response\n",
    "   print('Chatbot:', chatbot_response)"
   ]
  },
  {
   "cell_type": "code",
   "execution_count": null,
   "id": "da7cfb56",
   "metadata": {},
   "outputs": [],
   "source": []
  }
 ],
 "metadata": {
  "kernelspec": {
   "display_name": "Python 3 (ipykernel)",
   "language": "python",
   "name": "python3"
  },
  "language_info": {
   "codemirror_mode": {
    "name": "ipython",
    "version": 3
   },
   "file_extension": ".py",
   "mimetype": "text/x-python",
   "name": "python",
   "nbconvert_exporter": "python",
   "pygments_lexer": "ipython3",
   "version": "3.9.13"
  }
 },
 "nbformat": 4,
 "nbformat_minor": 5
}
